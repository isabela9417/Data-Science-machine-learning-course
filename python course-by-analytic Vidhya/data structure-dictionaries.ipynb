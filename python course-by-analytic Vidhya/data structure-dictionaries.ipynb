{
 "cells": [
  {
   "cell_type": "code",
   "execution_count": 1,
   "id": "11cd8298-155a-4b47-bca0-b9ff1524bccf",
   "metadata": {},
   "outputs": [],
   "source": [
    "# creating a dictionary\n",
    "\n",
    "marks = {'history': 83, 'English': 67, 'Kunai': 56}"
   ]
  },
  {
   "cell_type": "code",
   "execution_count": 2,
   "id": "c9448f2a-989d-471b-9626-94c483482688",
   "metadata": {},
   "outputs": [
    {
     "data": {
      "text/plain": [
       "{'history': 83, 'English': 67, 'Kunai': 56}"
      ]
     },
     "execution_count": 2,
     "metadata": {},
     "output_type": "execute_result"
    }
   ],
   "source": [
    "marks"
   ]
  },
  {
   "cell_type": "code",
   "execution_count": 4,
   "id": "00acffd9-0aa5-4d93-81ba-08746d36e2c8",
   "metadata": {},
   "outputs": [
    {
     "data": {
      "text/plain": [
       "67"
      ]
     },
     "execution_count": 4,
     "metadata": {},
     "output_type": "execute_result"
    }
   ],
   "source": [
    "# accessing elements in the dictionary\n",
    "\n",
    "marks['English']"
   ]
  },
  {
   "cell_type": "code",
   "execution_count": 6,
   "id": "8fb4be41-7eaa-4a4d-bc9a-5e44fc429e98",
   "metadata": {},
   "outputs": [],
   "source": [
    "# adding elements to the dictionary\n",
    "\n",
    "marks['Mahagora'] = 76"
   ]
  },
  {
   "cell_type": "code",
   "execution_count": 7,
   "id": "e8eef8f0-321e-4b23-9e96-e17fc8fa027e",
   "metadata": {},
   "outputs": [
    {
     "data": {
      "text/plain": [
       "{'history': 83, 'English': 67, 'Kunai': 56, 'Mahagora': 76}"
      ]
     },
     "execution_count": 7,
     "metadata": {},
     "output_type": "execute_result"
    }
   ],
   "source": [
    "marks"
   ]
  },
  {
   "cell_type": "code",
   "execution_count": 8,
   "id": "67bcced5-2c45-4f73-b5d2-a2a324f6b1e8",
   "metadata": {},
   "outputs": [],
   "source": [
    "# adding morethan one element to the dictionary\n",
    "\n",
    "marks.update({'Chemistry': 89, 'Sukuna': 90})"
   ]
  },
  {
   "cell_type": "code",
   "execution_count": 9,
   "id": "d00f010d-d52a-4f52-a4d5-7d5ba5408865",
   "metadata": {},
   "outputs": [
    {
     "data": {
      "text/plain": [
       "{'history': 83,\n",
       " 'English': 67,\n",
       " 'Kunai': 56,\n",
       " 'Mahagora': 76,\n",
       " 'Chemistry': 89,\n",
       " 'Sukuna': 90}"
      ]
     },
     "execution_count": 9,
     "metadata": {},
     "output_type": "execute_result"
    }
   ],
   "source": [
    "marks"
   ]
  },
  {
   "cell_type": "code",
   "execution_count": 10,
   "id": "0108da65-d5ec-4a48-849d-430bd1800741",
   "metadata": {},
   "outputs": [],
   "source": [
    "# deleting from a dictionary\n",
    "\n",
    "del marks['Chemistry']"
   ]
  },
  {
   "cell_type": "code",
   "execution_count": 11,
   "id": "b886c048-5128-4a56-8341-be6f3a7abefd",
   "metadata": {},
   "outputs": [
    {
     "data": {
      "text/plain": [
       "{'history': 83, 'English': 67, 'Kunai': 56, 'Mahagora': 76, 'Sukuna': 90}"
      ]
     },
     "execution_count": 11,
     "metadata": {},
     "output_type": "execute_result"
    }
   ],
   "source": [
    "marks"
   ]
  }
 ],
 "metadata": {
  "kernelspec": {
   "display_name": "Python 3 (ipykernel)",
   "language": "python",
   "name": "python3"
  },
  "language_info": {
   "codemirror_mode": {
    "name": "ipython",
    "version": 3
   },
   "file_extension": ".py",
   "mimetype": "text/x-python",
   "name": "python",
   "nbconvert_exporter": "python",
   "pygments_lexer": "ipython3",
   "version": "3.11.7"
  }
 },
 "nbformat": 4,
 "nbformat_minor": 5
}
