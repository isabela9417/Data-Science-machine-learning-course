{
 "cells": [
  {
   "cell_type": "markdown",
   "id": "b600628b-5b0e-4e78-a7b0-b3359c80bb53",
   "metadata": {},
   "source": [
    "# Problem: Create a function that takes two numbers as argument and returns the greater of the two."
   ]
  },
  {
   "cell_type": "code",
   "execution_count": 2,
   "id": "3d68a3a1-eb15-4d51-b4c4-7b68fb06c33f",
   "metadata": {},
   "outputs": [],
   "source": [
    "def compare(a, b):\n",
    "    if(a > b):\n",
    "        greater = a\n",
    "    else:\n",
    "        greater = b\n",
    "\n",
    "    return greater"
   ]
  },
  {
   "cell_type": "code",
   "execution_count": null,
   "id": "426a22fd-1c14-4023-a1ca-153258f30f1c",
   "metadata": {},
   "outputs": [],
   "source": []
  },
  {
   "cell_type": "code",
   "execution_count": 3,
   "id": "9ffabb4c-88b4-4953-ad25-f75f303a4b29",
   "metadata": {},
   "outputs": [
    {
     "data": {
      "text/plain": [
       "28"
      ]
     },
     "execution_count": 3,
     "metadata": {},
     "output_type": "execute_result"
    }
   ],
   "source": [
    "compare(9, 28)"
   ]
  },
  {
   "cell_type": "code",
   "execution_count": 4,
   "id": "5c736369-f98d-4d31-90ec-65ebfd48f31e",
   "metadata": {},
   "outputs": [
    {
     "data": {
      "text/plain": [
       "70"
      ]
     },
     "execution_count": 4,
     "metadata": {},
     "output_type": "execute_result"
    }
   ],
   "source": [
    "compare(70, 29)"
   ]
  },
  {
   "cell_type": "code",
   "execution_count": null,
   "id": "0549adde-899e-4bda-9912-9930d8d7616b",
   "metadata": {},
   "outputs": [],
   "source": []
  }
 ],
 "metadata": {
  "kernelspec": {
   "display_name": "Python 3 (ipykernel)",
   "language": "python",
   "name": "python3"
  },
  "language_info": {
   "codemirror_mode": {
    "name": "ipython",
    "version": 3
   },
   "file_extension": ".py",
   "mimetype": "text/x-python",
   "name": "python",
   "nbconvert_exporter": "python",
   "pygments_lexer": "ipython3",
   "version": "3.11.7"
  }
 },
 "nbformat": 4,
 "nbformat_minor": 5
}
