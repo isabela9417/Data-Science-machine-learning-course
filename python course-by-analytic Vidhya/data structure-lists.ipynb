{
 "cells": [
  {
   "cell_type": "markdown",
   "id": "5558bc77-450c-4a25-bc0a-40479e997f2a",
   "metadata": {},
   "source": [
    "# Data structure: Lists "
   ]
  },
  {
   "cell_type": "code",
   "execution_count": 9,
   "id": "cee9ee20-3417-47b7-a9ba-01b1518fb23d",
   "metadata": {},
   "outputs": [],
   "source": [
    "# creating a list\n",
    "\n",
    "marks = [50, 90, 83, 78, 36, 65, 38, 67, 46]"
   ]
  },
  {
   "cell_type": "code",
   "execution_count": 10,
   "id": "228cb3c7-9159-4788-97ae-a57ee4b6f61e",
   "metadata": {},
   "outputs": [
    {
     "data": {
      "text/plain": [
       "[50, 90, 83, 78, 36, 65, 38, 67, 46]"
      ]
     },
     "execution_count": 10,
     "metadata": {},
     "output_type": "execute_result"
    }
   ],
   "source": [
    "marks"
   ]
  },
  {
   "cell_type": "code",
   "execution_count": 11,
   "id": "8dc41f95-54a2-4165-9e6c-8524647a4bbf",
   "metadata": {},
   "outputs": [
    {
     "data": {
      "text/plain": [
       "[50, 90, 83, 78, 36, 65]"
      ]
     },
     "execution_count": 11,
     "metadata": {},
     "output_type": "execute_result"
    }
   ],
   "source": [
    "marks[0:6]"
   ]
  },
  {
   "cell_type": "code",
   "execution_count": 12,
   "id": "d1230f36-a336-4e08-88e4-10a49b4e839c",
   "metadata": {},
   "outputs": [
    {
     "data": {
      "text/plain": [
       "[90, 83, 78, 36, 65]"
      ]
     },
     "execution_count": 12,
     "metadata": {},
     "output_type": "execute_result"
    }
   ],
   "source": [
    "marks[1:6]"
   ]
  },
  {
   "cell_type": "code",
   "execution_count": 13,
   "id": "9229e478-44ef-4d24-9497-f795102379ca",
   "metadata": {},
   "outputs": [],
   "source": [
    "# adding an element to the list\n",
    "\n",
    "marks.append(72)"
   ]
  },
  {
   "cell_type": "code",
   "execution_count": 14,
   "id": "a2fa2400-3c69-410a-90a9-5e0aa0207adc",
   "metadata": {},
   "outputs": [
    {
     "data": {
      "text/plain": [
       "[50, 90, 83, 78, 36, 65, 38, 67, 46, 72]"
      ]
     },
     "execution_count": 14,
     "metadata": {},
     "output_type": "execute_result"
    }
   ],
   "source": [
    "marks"
   ]
  },
  {
   "cell_type": "code",
   "execution_count": 16,
   "id": "a57c427c-a62c-4894-9294-b294606318e6",
   "metadata": {},
   "outputs": [],
   "source": [
    "# adding multiple elements from a list\n",
    "\n",
    "marks.extend([92, 96, 53, 10])"
   ]
  },
  {
   "cell_type": "code",
   "execution_count": 17,
   "id": "6df4e96a-88d4-4ee0-8e23-a8d467a13164",
   "metadata": {},
   "outputs": [
    {
     "data": {
      "text/plain": [
       "[50, 90, 83, 78, 36, 65, 38, 67, 46, 72, 92, 96, 53, 10]"
      ]
     },
     "execution_count": 17,
     "metadata": {},
     "output_type": "execute_result"
    }
   ],
   "source": [
    "marks"
   ]
  },
  {
   "cell_type": "code",
   "execution_count": 18,
   "id": "7eb2bd81-51c8-4efb-8228-055234f61f69",
   "metadata": {},
   "outputs": [],
   "source": [
    "# deleting elements from a list using remove function or del"
   ]
  },
  {
   "cell_type": "code",
   "execution_count": 25,
   "id": "8e6a5bc5-b466-4422-9978-678962ecb5ba",
   "metadata": {},
   "outputs": [],
   "source": [
    "marks.append([16,48])"
   ]
  },
  {
   "cell_type": "code",
   "execution_count": 26,
   "id": "8ef8b322-2755-4a9d-9a54-b084dd6a8177",
   "metadata": {},
   "outputs": [
    {
     "data": {
      "text/plain": [
       "[50, 90, 83, 78, 36, 65, 38, 67, 46, 72, 92, 96, 53, 10, [16, 48]]"
      ]
     },
     "execution_count": 26,
     "metadata": {},
     "output_type": "execute_result"
    }
   ],
   "source": [
    "marks"
   ]
  },
  {
   "cell_type": "code",
   "execution_count": 27,
   "id": "ee42af45-5a59-4b1f-9794-cafc1b3dc55d",
   "metadata": {},
   "outputs": [],
   "source": [
    "marks.remove([16, 48])"
   ]
  },
  {
   "cell_type": "code",
   "execution_count": 28,
   "id": "9e44f68b-654f-4c5e-a974-516f2c13a211",
   "metadata": {},
   "outputs": [
    {
     "data": {
      "text/plain": [
       "[50, 90, 83, 78, 36, 65, 38, 67, 46, 72, 92, 96, 53, 10]"
      ]
     },
     "execution_count": 28,
     "metadata": {},
     "output_type": "execute_result"
    }
   ],
   "source": [
    "marks"
   ]
  },
  {
   "cell_type": "code",
   "execution_count": 29,
   "id": "5c379f35-a4a8-4008-8d7c-14c8839119fa",
   "metadata": {},
   "outputs": [],
   "source": [
    "del marks[-14]"
   ]
  },
  {
   "cell_type": "code",
   "execution_count": 30,
   "id": "a2698954-bff8-41c6-a96a-37cd255d79b3",
   "metadata": {},
   "outputs": [
    {
     "data": {
      "text/plain": [
       "[90, 83, 78, 36, 65, 38, 67, 46, 72, 92, 96, 53, 10]"
      ]
     },
     "execution_count": 30,
     "metadata": {},
     "output_type": "execute_result"
    }
   ],
   "source": [
    "marks"
   ]
  },
  {
   "cell_type": "code",
   "execution_count": 31,
   "id": "30fed6cf-da6c-441a-a10e-c364cb3a9cd8",
   "metadata": {},
   "outputs": [],
   "source": [
    "#removing 10 from the list\n",
    "\n",
    "marks.remove(10)"
   ]
  },
  {
   "cell_type": "code",
   "execution_count": 32,
   "id": "18be928a-86fd-4363-b14f-7720bef69f3d",
   "metadata": {},
   "outputs": [
    {
     "data": {
      "text/plain": [
       "[90, 83, 78, 36, 65, 38, 67, 46, 72, 92, 96, 53]"
      ]
     },
     "execution_count": 32,
     "metadata": {},
     "output_type": "execute_result"
    }
   ],
   "source": [
    "marks"
   ]
  },
  {
   "cell_type": "code",
   "execution_count": 33,
   "id": "5f531e31-e6e4-4b7a-a96a-23e0d5f55f25",
   "metadata": {},
   "outputs": [],
   "source": [
    "#removing the 2nd number 83 from the list\n",
    "del marks[1]"
   ]
  },
  {
   "cell_type": "code",
   "execution_count": 34,
   "id": "f6d483f0-2226-42f2-892c-20d3c1eb20a7",
   "metadata": {},
   "outputs": [
    {
     "data": {
      "text/plain": [
       "[90, 78, 36, 65, 38, 67, 46, 72, 92, 96, 53]"
      ]
     },
     "execution_count": 34,
     "metadata": {},
     "output_type": "execute_result"
    }
   ],
   "source": [
    "marks"
   ]
  },
  {
   "cell_type": "code",
   "execution_count": 35,
   "id": "69410cb8-8007-4f85-91cc-bd7558c476c9",
   "metadata": {},
   "outputs": [
    {
     "name": "stdout",
     "output_type": "stream",
     "text": [
      "90\n",
      "78\n",
      "36\n",
      "65\n",
      "38\n",
      "67\n",
      "46\n",
      "72\n",
      "92\n",
      "96\n",
      "53\n"
     ]
    }
   ],
   "source": [
    "# accessing the list using for loops\n",
    "for mark in marks:\n",
    "    print(mark)"
   ]
  },
  {
   "cell_type": "code",
   "execution_count": null,
   "id": "6ddfd926-aebd-4db1-9fec-0026ed695e39",
   "metadata": {},
   "outputs": [],
   "source": []
  }
 ],
 "metadata": {
  "kernelspec": {
   "display_name": "Python 3 (ipykernel)",
   "language": "python",
   "name": "python3"
  },
  "language_info": {
   "codemirror_mode": {
    "name": "ipython",
    "version": 3
   },
   "file_extension": ".py",
   "mimetype": "text/x-python",
   "name": "python",
   "nbconvert_exporter": "python",
   "pygments_lexer": "ipython3",
   "version": "3.11.7"
  }
 },
 "nbformat": 4,
 "nbformat_minor": 5
}
