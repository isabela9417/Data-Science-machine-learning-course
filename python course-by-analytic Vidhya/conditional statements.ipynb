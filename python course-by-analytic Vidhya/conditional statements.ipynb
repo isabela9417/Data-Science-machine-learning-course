{
 "cells": [
  {
   "cell_type": "markdown",
   "id": "df56fd11-e77b-4e7f-b7bd-ea6df250f962",
   "metadata": {},
   "source": [
    "#Problem 1: Take a variable x and print \"Even\" if the number is divisible by 2 otherwise print \"Odd\""
   ]
  },
  {
   "cell_type": "code",
   "execution_count": 2,
   "id": "5d279ac1-17f3-4211-ad90-45e0e273e8e1",
   "metadata": {},
   "outputs": [
    {
     "name": "stdout",
     "output_type": "stream",
     "text": [
      "Odd\n"
     ]
    }
   ],
   "source": [
    "x = 3\n",
    "\n",
    "if(x / 2 == 0):\n",
    "    print(\"Even\")\n",
    "else:\n",
    "    print(\"Odd\")"
   ]
  },
  {
   "cell_type": "markdown",
   "id": "460bad0c-b20f-4203-96a1-05cbbd96bded",
   "metadata": {},
   "source": [
    "#Problem 2: Take a variable y and print \"grade A\" if y is greater than 90, and \"grade B\" if y is greater than 60 but less than or equal to 90 and \"grade F\" otherwise."
   ]
  },
  {
   "cell_type": "code",
   "execution_count": 6,
   "id": "bb1461b2-e7d2-46ae-b446-f53909518e87",
   "metadata": {},
   "outputs": [
    {
     "name": "stdout",
     "output_type": "stream",
     "text": [
      "Grade F\n"
     ]
    }
   ],
   "source": [
    "y = 20\n",
    "\n",
    "if(y > 90):\n",
    "    print(\"Grade A\")\n",
    "elif(y > 60 and y <= 90):\n",
    "    print(\"Grade B\")\n",
    "else: \n",
    "    print(\"Grade F\")"
   ]
  },
  {
   "cell_type": "code",
   "execution_count": null,
   "id": "fe5e1fee-1569-4659-8b11-922fd83848fd",
   "metadata": {},
   "outputs": [],
   "source": []
  }
 ],
 "metadata": {
  "kernelspec": {
   "display_name": "Python 3 (ipykernel)",
   "language": "python",
   "name": "python3"
  },
  "language_info": {
   "codemirror_mode": {
    "name": "ipython",
    "version": 3
   },
   "file_extension": ".py",
   "mimetype": "text/x-python",
   "name": "python",
   "nbconvert_exporter": "python",
   "pygments_lexer": "ipython3",
   "version": "3.11.7"
  }
 },
 "nbformat": 4,
 "nbformat_minor": 5
}
