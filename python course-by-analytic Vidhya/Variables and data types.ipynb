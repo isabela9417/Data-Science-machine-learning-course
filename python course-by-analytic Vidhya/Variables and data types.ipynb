{
 "cells": [
  {
   "cell_type": "markdown",
   "id": "9cb50d5e-3a77-4806-8913-dd4b2dba6f99",
   "metadata": {},
   "source": [
    "Variable Assignment"
   ]
  },
  {
   "cell_type": "code",
   "execution_count": 1,
   "id": "f43c4694-86e4-4570-937d-ec5134e52741",
   "metadata": {},
   "outputs": [],
   "source": [
    "a = 3\n",
    "b = 9\n"
   ]
  },
  {
   "cell_type": "code",
   "execution_count": 2,
   "id": "1a1ec053-7164-4d94-9e3c-603504b4cca6",
   "metadata": {},
   "outputs": [
    {
     "name": "stdout",
     "output_type": "stream",
     "text": [
      "3\n"
     ]
    }
   ],
   "source": [
    "print(a)"
   ]
  },
  {
   "cell_type": "code",
   "execution_count": 3,
   "id": "24d9961d-5b73-421a-8b21-666cf496e9ae",
   "metadata": {},
   "outputs": [
    {
     "name": "stdout",
     "output_type": "stream",
     "text": [
      "9\n"
     ]
    }
   ],
   "source": [
    "print(b)"
   ]
  },
  {
   "cell_type": "markdown",
   "id": "1a1b7cbb-e65f-4fa5-b02d-d9183457941b",
   "metadata": {},
   "source": [
    "# How variables work in python"
   ]
  },
  {
   "cell_type": "code",
   "execution_count": 4,
   "id": "70f3de3d-316e-457c-9f4c-0bc2697bc091",
   "metadata": {},
   "outputs": [],
   "source": [
    "a = 4\n",
    "b = a\n",
    "a = 8"
   ]
  },
  {
   "cell_type": "code",
   "execution_count": 5,
   "id": "9043a8b6-23cb-4e61-a1cf-25f1966cddc2",
   "metadata": {},
   "outputs": [
    {
     "name": "stdout",
     "output_type": "stream",
     "text": [
      "8\n"
     ]
    }
   ],
   "source": [
    "print(a)"
   ]
  },
  {
   "cell_type": "code",
   "execution_count": 6,
   "id": "7ee97ee9-9106-425a-b0ab-bc394cef1d30",
   "metadata": {},
   "outputs": [
    {
     "name": "stdout",
     "output_type": "stream",
     "text": [
      "4\n"
     ]
    }
   ],
   "source": [
    "print(b)"
   ]
  },
  {
   "cell_type": "markdown",
   "id": "0e9d26c9-9dcb-40f0-9395-7c68930ad83b",
   "metadata": {},
   "source": [
    "# Data types"
   ]
  },
  {
   "cell_type": "code",
   "execution_count": 7,
   "id": "eba225cd-d3bd-4f2d-8c9b-8146c6e7d459",
   "metadata": {},
   "outputs": [],
   "source": [
    "a = 2"
   ]
  },
  {
   "cell_type": "code",
   "execution_count": 8,
   "id": "cf7c22ff-ec9f-4154-88c1-a7da68fce7cc",
   "metadata": {},
   "outputs": [
    {
     "data": {
      "text/plain": [
       "int"
      ]
     },
     "execution_count": 8,
     "metadata": {},
     "output_type": "execute_result"
    }
   ],
   "source": [
    "type(a)"
   ]
  },
  {
   "cell_type": "code",
   "execution_count": 9,
   "id": "1c8e4ed1-49a1-4c94-a503-704f8ca7c210",
   "metadata": {},
   "outputs": [],
   "source": [
    "a = \"Isabela\""
   ]
  },
  {
   "cell_type": "code",
   "execution_count": 10,
   "id": "5ab721c3-5d84-4cd2-af07-d7dcdfbe92de",
   "metadata": {},
   "outputs": [
    {
     "data": {
      "text/plain": [
       "str"
      ]
     },
     "execution_count": 10,
     "metadata": {},
     "output_type": "execute_result"
    }
   ],
   "source": [
    "type(a)"
   ]
  },
  {
   "cell_type": "code",
   "execution_count": 11,
   "id": "eba35733-3208-43b8-a9d0-d21cc9e9f137",
   "metadata": {},
   "outputs": [
    {
     "ename": "NameError",
     "evalue": "name 'true' is not defined",
     "output_type": "error",
     "traceback": [
      "\u001b[1;31m---------------------------------------------------------------------------\u001b[0m",
      "\u001b[1;31mNameError\u001b[0m                                 Traceback (most recent call last)",
      "Cell \u001b[1;32mIn[11], line 1\u001b[0m\n\u001b[1;32m----> 1\u001b[0m a \u001b[38;5;241m=\u001b[39m true\n",
      "\u001b[1;31mNameError\u001b[0m: name 'true' is not defined"
     ]
    }
   ],
   "source": [
    "a = true"
   ]
  },
  {
   "cell_type": "code",
   "execution_count": 12,
   "id": "9341c424-f39c-4bf9-9eb7-86a2c349f722",
   "metadata": {},
   "outputs": [],
   "source": [
    "a = True"
   ]
  },
  {
   "cell_type": "code",
   "execution_count": 13,
   "id": "2e411b2d-a86c-4dab-9152-8d900a193c2b",
   "metadata": {},
   "outputs": [
    {
     "data": {
      "text/plain": [
       "bool"
      ]
     },
     "execution_count": 13,
     "metadata": {},
     "output_type": "execute_result"
    }
   ],
   "source": [
    "type(a)"
   ]
  },
  {
   "cell_type": "code",
   "execution_count": null,
   "id": "881717ae-2dce-4d04-9bb4-ab1ba610234c",
   "metadata": {},
   "outputs": [],
   "source": []
  }
 ],
 "metadata": {
  "kernelspec": {
   "display_name": "Python 3 (ipykernel)",
   "language": "python",
   "name": "python3"
  },
  "language_info": {
   "codemirror_mode": {
    "name": "ipython",
    "version": 3
   },
   "file_extension": ".py",
   "mimetype": "text/x-python",
   "name": "python",
   "nbconvert_exporter": "python",
   "pygments_lexer": "ipython3",
   "version": "3.11.7"
  }
 },
 "nbformat": 4,
 "nbformat_minor": 5
}
