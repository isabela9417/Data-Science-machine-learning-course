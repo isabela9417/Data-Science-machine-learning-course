{
 "cells": [
  {
   "cell_type": "markdown",
   "id": "cd6aab5e-cb35-40ef-90b7-bd8b23a86db5",
   "metadata": {},
   "source": [
    "Arithmetic Operations"
   ]
  },
  {
   "cell_type": "code",
   "execution_count": 1,
   "id": "04dc4acb-0a0b-4ca9-b957-ee8706a1b978",
   "metadata": {},
   "outputs": [],
   "source": [
    "# addition"
   ]
  },
  {
   "cell_type": "code",
   "execution_count": 2,
   "id": "14376532-5046-4c92-9160-50151eb3ef43",
   "metadata": {},
   "outputs": [
    {
     "data": {
      "text/plain": [
       "6"
      ]
     },
     "execution_count": 2,
     "metadata": {},
     "output_type": "execute_result"
    }
   ],
   "source": [
    "2 + 4"
   ]
  },
  {
   "cell_type": "code",
   "execution_count": 3,
   "id": "885716b9-ea20-481b-bd59-1d6dd5d36321",
   "metadata": {},
   "outputs": [
    {
     "data": {
      "text/plain": [
       "8"
      ]
     },
     "execution_count": 3,
     "metadata": {},
     "output_type": "execute_result"
    }
   ],
   "source": [
    "5+3"
   ]
  },
  {
   "cell_type": "code",
   "execution_count": 4,
   "id": "8c4d26b8-53e9-4820-8f46-15f5a8e301bb",
   "metadata": {},
   "outputs": [],
   "source": [
    "# Division"
   ]
  },
  {
   "cell_type": "code",
   "execution_count": 5,
   "id": "402151d2-24cc-40cf-9d24-b46443e46ac0",
   "metadata": {},
   "outputs": [
    {
     "data": {
      "text/plain": [
       "3.0"
      ]
     },
     "execution_count": 5,
     "metadata": {},
     "output_type": "execute_result"
    }
   ],
   "source": [
    "9 / 3"
   ]
  },
  {
   "cell_type": "code",
   "execution_count": 6,
   "id": "d9a6f906-682a-4e06-982e-5931276dc0c9",
   "metadata": {},
   "outputs": [
    {
     "data": {
      "text/plain": [
       "45.0"
      ]
     },
     "execution_count": 6,
     "metadata": {},
     "output_type": "execute_result"
    }
   ],
   "source": [
    "90 / 2"
   ]
  },
  {
   "cell_type": "code",
   "execution_count": 7,
   "id": "0af52f3d-37a4-424b-a7d7-92cc6718eb9d",
   "metadata": {},
   "outputs": [
    {
     "data": {
      "text/plain": [
       "6"
      ]
     },
     "execution_count": 7,
     "metadata": {},
     "output_type": "execute_result"
    }
   ],
   "source": [
    "# multilpication\n",
    "2 * 3"
   ]
  },
  {
   "cell_type": "code",
   "execution_count": 8,
   "id": "3d3a95b3-6a1f-49a0-9d88-ae5eb73a2e0c",
   "metadata": {},
   "outputs": [
    {
     "data": {
      "text/plain": [
       "18"
      ]
     },
     "execution_count": 8,
     "metadata": {},
     "output_type": "execute_result"
    }
   ],
   "source": [
    "9 * 2"
   ]
  },
  {
   "cell_type": "code",
   "execution_count": 9,
   "id": "606fab7f-18d9-433c-9f1e-23f75e5082f9",
   "metadata": {},
   "outputs": [
    {
     "data": {
      "text/plain": [
       "7"
      ]
     },
     "execution_count": 9,
     "metadata": {},
     "output_type": "execute_result"
    }
   ],
   "source": [
    "# subtraction\n",
    "\n",
    "9-2"
   ]
  },
  {
   "cell_type": "code",
   "execution_count": 10,
   "id": "70fb546e-ef00-4602-9902-23dc3c344908",
   "metadata": {},
   "outputs": [
    {
     "data": {
      "text/plain": [
       "-13"
      ]
     },
     "execution_count": 10,
     "metadata": {},
     "output_type": "execute_result"
    }
   ],
   "source": [
    "10 - 23"
   ]
  },
  {
   "cell_type": "code",
   "execution_count": 11,
   "id": "79fbdb41-0ba1-4d8b-8d56-e574b12806a6",
   "metadata": {},
   "outputs": [
    {
     "ename": "TypeError",
     "evalue": "can only concatenate str (not \"int\") to str",
     "output_type": "error",
     "traceback": [
      "\u001b[1;31m---------------------------------------------------------------------------\u001b[0m",
      "\u001b[1;31mTypeError\u001b[0m                                 Traceback (most recent call last)",
      "Cell \u001b[1;32mIn[11], line 1\u001b[0m\n\u001b[1;32m----> 1\u001b[0m \u001b[38;5;124m\"\u001b[39m\u001b[38;5;124mbellah\u001b[39m\u001b[38;5;124m\"\u001b[39m \u001b[38;5;241m+\u001b[39m \u001b[38;5;241m9\u001b[39m\n",
      "\u001b[1;31mTypeError\u001b[0m: can only concatenate str (not \"int\") to str"
     ]
    }
   ],
   "source": [
    "\"bellah\" + 9"
   ]
  },
  {
   "cell_type": "code",
   "execution_count": 12,
   "id": "93a4688f-3ef9-443c-a2ec-2c14700f733a",
   "metadata": {},
   "outputs": [
    {
     "data": {
      "text/plain": [
       "'bellah3'"
      ]
     },
     "execution_count": 12,
     "metadata": {},
     "output_type": "execute_result"
    }
   ],
   "source": [
    "\"bellah\" + \"3\""
   ]
  },
  {
   "cell_type": "code",
   "execution_count": 13,
   "id": "567badf7-6eae-4716-bc5a-f85ad6dd7e37",
   "metadata": {},
   "outputs": [
    {
     "data": {
      "text/plain": [
       "'bellahbellah'"
      ]
     },
     "execution_count": 13,
     "metadata": {},
     "output_type": "execute_result"
    }
   ],
   "source": [
    "\"bellah\" * 2"
   ]
  },
  {
   "cell_type": "code",
   "execution_count": 14,
   "id": "f0682fff-0ce1-40a9-8b69-b4d7c061173c",
   "metadata": {},
   "outputs": [
    {
     "data": {
      "text/plain": [
       "True"
      ]
     },
     "execution_count": 14,
     "metadata": {},
     "output_type": "execute_result"
    }
   ],
   "source": [
    "# less than\n",
    "5 > 3"
   ]
  },
  {
   "cell_type": "code",
   "execution_count": 15,
   "id": "fb7de580-c80c-4756-8a79-d60b010c3f45",
   "metadata": {},
   "outputs": [
    {
     "ename": "SyntaxError",
     "evalue": "cannot assign to literal (3611977590.py, line 1)",
     "output_type": "error",
     "traceback": [
      "\u001b[1;36m  Cell \u001b[1;32mIn[15], line 1\u001b[1;36m\u001b[0m\n\u001b[1;33m    0=> 3\u001b[0m\n\u001b[1;37m    ^\u001b[0m\n\u001b[1;31mSyntaxError\u001b[0m\u001b[1;31m:\u001b[0m cannot assign to literal\n"
     ]
    }
   ],
   "source": [
    "0=> 3"
   ]
  },
  {
   "cell_type": "code",
   "execution_count": 16,
   "id": "017e2381-f2d9-4a3f-8db7-f083bd22783f",
   "metadata": {},
   "outputs": [
    {
     "data": {
      "text/plain": [
       "False"
      ]
     },
     "execution_count": 16,
     "metadata": {},
     "output_type": "execute_result"
    }
   ],
   "source": [
    "0 >= 3"
   ]
  },
  {
   "cell_type": "code",
   "execution_count": 17,
   "id": "d560fa27-e029-4340-b341-9e02bba82164",
   "metadata": {},
   "outputs": [
    {
     "data": {
      "text/plain": [
       "True"
      ]
     },
     "execution_count": 17,
     "metadata": {},
     "output_type": "execute_result"
    }
   ],
   "source": [
    "3 * 3 > 8/2"
   ]
  },
  {
   "cell_type": "markdown",
   "id": "2207918f-cd99-4ac9-83c3-c17b23d2720f",
   "metadata": {},
   "source": [
    "# Logic Operators"
   ]
  },
  {
   "cell_type": "code",
   "execution_count": 19,
   "id": "7839d1f2-d140-43f3-8ba3-bcb24f49d345",
   "metadata": {},
   "outputs": [
    {
     "data": {
      "text/plain": [
       "0"
      ]
     },
     "execution_count": 19,
     "metadata": {},
     "output_type": "execute_result"
    }
   ],
   "source": [
    "0 and 3"
   ]
  },
  {
   "cell_type": "code",
   "execution_count": 20,
   "id": "3dd652be-89bd-4b3d-abd1-c7be4a7b29e6",
   "metadata": {},
   "outputs": [
    {
     "data": {
      "text/plain": [
       "9"
      ]
     },
     "execution_count": 20,
     "metadata": {},
     "output_type": "execute_result"
    }
   ],
   "source": [
    "3 and 9"
   ]
  },
  {
   "cell_type": "code",
   "execution_count": 21,
   "id": "bbadc245-a07a-45c4-af32-45d40e58ea7e",
   "metadata": {},
   "outputs": [
    {
     "data": {
      "text/plain": [
       "3"
      ]
     },
     "execution_count": 21,
     "metadata": {},
     "output_type": "execute_result"
    }
   ],
   "source": [
    "9 and 3"
   ]
  },
  {
   "cell_type": "code",
   "execution_count": 22,
   "id": "414e1da6-35c7-4952-8cc9-8f9ea82a444f",
   "metadata": {},
   "outputs": [
    {
     "data": {
      "text/plain": [
       "9"
      ]
     },
     "execution_count": 22,
     "metadata": {},
     "output_type": "execute_result"
    }
   ],
   "source": [
    "8 and 9"
   ]
  },
  {
   "cell_type": "code",
   "execution_count": 23,
   "id": "3861b2d9-3346-4e53-9068-15403c3b23d8",
   "metadata": {},
   "outputs": [
    {
     "data": {
      "text/plain": [
       "1"
      ]
     },
     "execution_count": 23,
     "metadata": {},
     "output_type": "execute_result"
    }
   ],
   "source": [
    "12 and 1"
   ]
  },
  {
   "cell_type": "code",
   "execution_count": 24,
   "id": "dd8c4fc4-3d86-41f8-9321-d5bdf61727b3",
   "metadata": {},
   "outputs": [
    {
     "data": {
      "text/plain": [
       "0"
      ]
     },
     "execution_count": 24,
     "metadata": {},
     "output_type": "execute_result"
    }
   ],
   "source": [
    "1 and 0"
   ]
  },
  {
   "cell_type": "code",
   "execution_count": 25,
   "id": "ed2b20ed-3d0e-41eb-bed9-a13d69071065",
   "metadata": {},
   "outputs": [],
   "source": [
    "# or operator"
   ]
  },
  {
   "cell_type": "code",
   "execution_count": 26,
   "id": "f6f1977f-59a3-40c3-9aa2-f9d34846dfe7",
   "metadata": {},
   "outputs": [
    {
     "data": {
      "text/plain": [
       "8"
      ]
     },
     "execution_count": 26,
     "metadata": {},
     "output_type": "execute_result"
    }
   ],
   "source": [
    "8 or 2"
   ]
  },
  {
   "cell_type": "code",
   "execution_count": 27,
   "id": "a79ec90b-137e-45c1-a020-cdcf6a4cbcd7",
   "metadata": {},
   "outputs": [
    {
     "data": {
      "text/plain": [
       "2"
      ]
     },
     "execution_count": 27,
     "metadata": {},
     "output_type": "execute_result"
    }
   ],
   "source": [
    "2 or 8"
   ]
  },
  {
   "cell_type": "code",
   "execution_count": null,
   "id": "5aa03722-d565-40b8-a106-92710e24d0ba",
   "metadata": {},
   "outputs": [],
   "source": []
  }
 ],
 "metadata": {
  "kernelspec": {
   "display_name": "Python 3 (ipykernel)",
   "language": "python",
   "name": "python3"
  },
  "language_info": {
   "codemirror_mode": {
    "name": "ipython",
    "version": 3
   },
   "file_extension": ".py",
   "mimetype": "text/x-python",
   "name": "python",
   "nbconvert_exporter": "python",
   "pygments_lexer": "ipython3",
   "version": "3.11.7"
  }
 },
 "nbformat": 4,
 "nbformat_minor": 5
}
